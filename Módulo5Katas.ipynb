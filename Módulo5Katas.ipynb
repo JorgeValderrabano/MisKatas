{
  "cells": [
    {
      "cell_type": "code",
      "execution_count": 4,
      "metadata": {},
      "outputs": [],
      "source": [
        "first_planet = 149597870\n",
        "second_planet = 778547200"
      ]
    },
    {
      "cell_type": "code",
      "execution_count": 13,
      "metadata": {},
      "outputs": [
        {
          "name": "stdout",
          "output_type": "stream",
          "text": [
            "628949330\n",
            "390577533.93\n"
          ]
        }
      ],
      "source": [
        "distance_km = second_planet - first_planet\n",
        "print(distance_km)\n",
        "\n",
        "distance_mi = distance_km * 0.621\n",
        "print(distance_mi)"
      ]
    },
    {
      "cell_type": "code",
      "execution_count": 23,
      "metadata": {},
      "outputs": [],
      "source": [
        "first_planet = input('Introduzca la distancia del sol para el primer planeta en KM')\n",
        "second_planet = input('Introduzca la distancia desde el sol para el segundo planeta en KM')"
      ]
    },
    {
      "cell_type": "code",
      "execution_count": 33,
      "metadata": {},
      "outputs": [
        {
          "ename": "ValueError",
          "evalue": "invalid literal for int() with base 10: ''",
          "output_type": "error",
          "traceback": [
            "\u001b[1;31m---------------------------------------------------------------------------\u001b[0m",
            "\u001b[1;31mValueError\u001b[0m                                Traceback (most recent call last)",
            "\u001b[1;32mc:\\Users\\Jorge\\Downloads\\Launch X\\MisKatas\\Módulo5Katas.ipynb Cell 4'\u001b[0m in \u001b[0;36m<module>\u001b[1;34m\u001b[0m\n\u001b[1;32m----> <a href='vscode-notebook-cell:/c%3A/Users/Jorge/Downloads/Launch%20X/MisKatas/M%C3%B3dulo5Katas.ipynb#ch0000020?line=0'>1</a>\u001b[0m first_planet \u001b[39m=\u001b[39m \u001b[39mint\u001b[39;49m(first_planet)\n\u001b[0;32m      <a href='vscode-notebook-cell:/c%3A/Users/Jorge/Downloads/Launch%20X/MisKatas/M%C3%B3dulo5Katas.ipynb#ch0000020?line=1'>2</a>\u001b[0m second_planet \u001b[39m=\u001b[39m \u001b[39mint\u001b[39m(second_planet)\n",
            "\u001b[1;31mValueError\u001b[0m: invalid literal for int() with base 10: ''"
          ]
        }
      ],
      "source": [
        "first_planet = int(first_planet)\n",
        "second_planet = int(second_planet)"
      ]
    },
    {
      "cell_type": "code",
      "execution_count": 31,
      "metadata": {},
      "outputs": [
        {
          "ename": "TypeError",
          "evalue": "unsupported operand type(s) for -: 'str' and 'str'",
          "output_type": "error",
          "traceback": [
            "\u001b[1;31m---------------------------------------------------------------------------\u001b[0m",
            "\u001b[1;31mTypeError\u001b[0m                                 Traceback (most recent call last)",
            "\u001b[1;32mc:\\Users\\Jorge\\Downloads\\Launch X\\MisKatas\\Módulo5Katas.ipynb Cell 5'\u001b[0m in \u001b[0;36m<module>\u001b[1;34m\u001b[0m\n\u001b[1;32m----> <a href='vscode-notebook-cell:/c%3A/Users/Jorge/Downloads/Launch%20X/MisKatas/M%C3%B3dulo5Katas.ipynb#ch0000021?line=0'>1</a>\u001b[0m distance_km \u001b[39m=\u001b[39m second_planet \u001b[39m-\u001b[39;49m first_planet\n\u001b[0;32m      <a href='vscode-notebook-cell:/c%3A/Users/Jorge/Downloads/Launch%20X/MisKatas/M%C3%B3dulo5Katas.ipynb#ch0000021?line=1'>2</a>\u001b[0m \u001b[39mprint\u001b[39m(distance_km)\n\u001b[0;32m      <a href='vscode-notebook-cell:/c%3A/Users/Jorge/Downloads/Launch%20X/MisKatas/M%C3%B3dulo5Katas.ipynb#ch0000021?line=3'>4</a>\u001b[0m distance_mi \u001b[39m=\u001b[39m distance_km \u001b[39m*\u001b[39m \u001b[39m0.621\u001b[39m\n",
            "\u001b[1;31mTypeError\u001b[0m: unsupported operand type(s) for -: 'str' and 'str'"
          ]
        }
      ],
      "source": [
        "distance_km = second_planet - first_planet\n",
        "print(distance_km)\n",
        "\n",
        "distance_mi = distance_km * 0.621\n",
        "print(abs(distance_mi))"
      ]
    }
  ],
  "metadata": {
    "interpreter": {
      "hash": "502cd6c3b6c9e666d195e1caff9d64ea12bf644e547a4c8fae84812082c54b6f"
    },
    "kernel_info": {
      "name": "conda-env-py37_default-py"
    },
    "kernelspec": {
      "display_name": "py37_default",
      "language": "python",
      "name": "python3"
    },
    "language_info": {
      "codemirror_mode": {
        "name": "ipython",
        "version": 3
      },
      "file_extension": ".py",
      "mimetype": "text/x-python",
      "name": "python",
      "nbconvert_exporter": "python",
      "pygments_lexer": "ipython3",
      "version": "3.10.2"
    },
    "nteract": {
      "version": "nteract-front-end@1.0.0"
    },
    "orig_nbformat": 4
  },
  "nbformat": 4,
  "nbformat_minor": 2
}
